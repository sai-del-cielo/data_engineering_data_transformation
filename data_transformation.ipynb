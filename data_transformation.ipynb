{
 "cells": [
  {
   "cell_type": "code",
   "execution_count": 28,
   "metadata": {},
   "outputs": [],
   "source": [
    "import pandas as pd\n",
    "\n",
    "import pandas as pd\n",
    "import matplotlib.pyplot as plt\n",
    "import numpy as np\n",
    "\n",
    "df = pd.read_csv('books.csv')"
   ]
  },
  {
   "cell_type": "code",
   "execution_count": 29,
   "metadata": {},
   "outputs": [],
   "source": [
    "df_drop = df.drop(['Edition Statement', 'Corporate Author', 'Corporate Contributors', 'Former owner', 'Engraver', 'Issuance type', 'Shelfmarks'], axis=1)\n",
    "\n",
    "df_use_col = pd.read_csv('books.csv', usecols=['Identifier', 'Place of Publication', 'Date of Publication',\n",
    "       'Publisher', 'Title', 'Author', 'Contributors', 'Flickr URL'])\n",
    "\n",
    "df = df_use_col"
   ]
  },
  {
   "cell_type": "code",
   "execution_count": 30,
   "metadata": {},
   "outputs": [
    {
     "name": "stderr",
     "output_type": "stream",
     "text": [
      "C:\\Users\\liqui\\AppData\\Local\\Temp/ipykernel_14924/2499487664.py:5: FutureWarning: The default value of regex will change from True to False in a future version.\n",
      "  df['Date of Publication'] = df['Date of Publication'].str.replace(r'\\D', '')\n"
     ]
    }
   ],
   "source": [
    "# df = df.loc[df['Date of Publication'].str.contains('?'), 'Date of Publication'] = 'Nan'\n",
    "# df_test = df['Date of Publication'].str.contains('?') \n",
    "\n",
    "df.loc[(df['Date of Publication'].astype(str).str.contains('\\?'))] = np.nan\n",
    "df['Date of Publication'] = df['Date of Publication'].str.replace(r'\\D', '')\n",
    "df['Date of Publication'] = df['Date of Publication'].str[:4]\n",
    "\n",
    "\n",
    "# df_new_test = df_use_col['Date of Publication'].str.contains('\\?')"
   ]
  },
  {
   "cell_type": "code",
   "execution_count": 33,
   "metadata": {},
   "outputs": [],
   "source": [
    "uniplaces = pd.read_csv('uniplaces.txt', delimiter= '\\n')\n"
   ]
  }
 ],
 "metadata": {
  "interpreter": {
   "hash": "3dc21c30b46178a14502002b1fb42fc88b1a5518f70c6728391f6b69616a0440"
  },
  "kernelspec": {
   "display_name": "Python 3.9.7 ('ML')",
   "language": "python",
   "name": "python3"
  },
  "language_info": {
   "codemirror_mode": {
    "name": "ipython",
    "version": 3
   },
   "file_extension": ".py",
   "mimetype": "text/x-python",
   "name": "python",
   "nbconvert_exporter": "python",
   "pygments_lexer": "ipython3",
   "version": "3.9.7"
  },
  "orig_nbformat": 4
 },
 "nbformat": 4,
 "nbformat_minor": 2
}
